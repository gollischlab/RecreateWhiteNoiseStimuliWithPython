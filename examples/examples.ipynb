{
 "cells": [
  {
   "cell_type": "markdown",
   "id": "659e56f9-e054-4214-aa11-a3685bcfe96e",
   "metadata": {},
   "source": [
    "# Usage examples\n",
    "\n",
    "The package offers routines for recreating temporal or spatiotemporal binary and Gaussian contrast values of white noise stimuli. The modules `binarystimulus` and `gaussianstimulus` are identical in their functions, function signatures, and return values. For simplicity, the code below shows examples for the binary stimulus module only. All examples work on the Gaussian stimuli analogously. Here, the module name is reduced to `stimulus` on import, for brevity."
   ]
  },
  {
   "cell_type": "code",
   "execution_count": 1,
   "id": "2feda35f-8e66-44bc-8490-d519f1bb1487",
   "metadata": {},
   "outputs": [],
   "source": [
    "from retinawhitenoise import binarystimulus as stimulus"
   ]
  },
  {
   "cell_type": "markdown",
   "id": "a1d48bb9-98fb-4138-9ed6-8e72f4f12ab4",
   "metadata": {},
   "source": [
    "All functions contain detailed doc-strings to help with their usage. Here an example"
   ]
  },
  {
   "cell_type": "code",
   "execution_count": 2,
   "id": "d5cc5303-40a9-45d6-a9b0-1a0ddece2100",
   "metadata": {
    "scrolled": true
   },
   "outputs": [
    {
     "data": {
      "text/plain": [
       "\u001b[1;31mSignature:\u001b[0m \u001b[0mstimulus\u001b[0m\u001b[1;33m.\u001b[0m\u001b[0mrecreate\u001b[0m\u001b[1;33m(\u001b[0m\u001b[0mseed\u001b[0m\u001b[1;33m,\u001b[0m \u001b[0mxy\u001b[0m\u001b[1;33m=\u001b[0m\u001b[1;33m(\u001b[0m\u001b[1;33m)\u001b[0m\u001b[1;33m,\u001b[0m \u001b[0mnum_frames\u001b[0m\u001b[1;33m=\u001b[0m\u001b[1;36m1\u001b[0m\u001b[1;33m,\u001b[0m \u001b[0mnum_trials\u001b[0m\u001b[1;33m=\u001b[0m\u001b[1;36m1\u001b[0m\u001b[1;33m,\u001b[0m \u001b[0mprogress\u001b[0m\u001b[1;33m=\u001b[0m\u001b[1;32mFalse\u001b[0m\u001b[1;33m)\u001b[0m\u001b[1;33m\u001b[0m\u001b[1;33m\u001b[0m\u001b[0m\n",
       "\u001b[1;31mDocstring:\u001b[0m\n",
       "Recreate temporal or spatiotemporal white noise stimulus for a given\n",
       "set of parameters trial-by-trial to iterate over on the fly\n",
       "\n",
       "Parameters\n",
       "----------\n",
       "seed : int or dict\n",
       "    Initial seed\n",
       "\n",
       "xy : tuple, optional\n",
       "    Dimensions of the spatial frame, e.g. `(x, y)` for two spatial\n",
       "    dimensions, `(s,)` for one spatial dimension, or `()` for no\n",
       "    spatial component, that is, only temporal white noise, i.e. full\n",
       "    field flicker. Default is `()`\n",
       "\n",
       "num_frames : int, optional\n",
       "    Number of spatial frames. Default is 1\n",
       "\n",
       "num_trials : int, optional\n",
       "    Number of trials. This determines the number of values to yield.\n",
       "    Default is 1\n",
       "\n",
       "progress : dict or bool, optional\n",
       "    Arguments to pass to tqdm progress bar. If True, a tqdm progress\n",
       "    bar is shown with its default properties. If False, no progress\n",
       "    bar is shown. If dict, it serves as keyword arguments passed to\n",
       "    tqdm. Default is False\n",
       "\n",
       "Yields\n",
       "------\n",
       "stim : (*xy, num_frames) numpy.ndarray\n",
       "    Recreated stimulus per trial of type np.int8 containing -1 and 1\n",
       "\n",
       "Notes\n",
       "-----\n",
       "The function does not return the stimulus. Instead it yields it for\n",
       "each trial iteratively. Alternatively, the stimulus can first be\n",
       "recreated and saved to disk to later load specific sections of it on\n",
       "demand using `save` and `load`.\n",
       "\n",
       "Example\n",
       "-------\n",
       "Recreating the stimulus on the fly (as opposed to first saving and\n",
       "loading it from disk on demand) for 20 frames of 200 x 150 spatial\n",
       "size, iterating over 5 trials can be achieved like so\n",
       "\n",
       ">>> for stim in recreate(-1000, (200, 150), 20, 5):\n",
       ">>>   pass  # At each iteration stim is a (200, 150, 20) array\n",
       "\n",
       "Enable tqdm progress bar and specify arguments\n",
       "\n",
       ">>> for stim in recreate(-1000,\n",
       ">>>                      xy=(200, 150),\n",
       ">>>                      num_frames=20,\n",
       ">>>                      num_trials=5,\n",
       ">>>                      progress=dict(desc='Running', leave=True)):\n",
       ">>>   pass  # The progress bar remains visible with a custom title"
      ]
     },
     "metadata": {},
     "output_type": "display_data"
    }
   ],
   "source": [
    "stimulus.recreate?"
   ]
  },
  {
   "cell_type": "markdown",
   "id": "0fe27407-a3d3-423f-b25d-80904071d1f0",
   "metadata": {},
   "source": [
    "## Temporal (\"full-field\") stimulus\n",
    "\n",
    "The following code recreates 5 trials of a temporal simulus, where one trial consists of 10 frames. Each iteration of the for-loop is one trial. Withing the for-loop, `stim` is a one-dimensional numpy array of size 10 containing the valuse of one trial at each iteration."
   ]
  },
  {
   "cell_type": "code",
   "execution_count": 3,
   "id": "7e27d924-971a-4df4-8007-6b81a93dcf51",
   "metadata": {},
   "outputs": [
    {
     "name": "stdout",
     "output_type": "stream",
     "text": [
      "[-1 -1  1  1 -1  1  1  1  1  1]\n",
      "[-1  1 -1  1 -1 -1 -1  1  1  1]\n",
      "[-1 -1 -1 -1  1 -1  1 -1 -1 -1]\n",
      "[-1  1  1  1  1  1  1 -1  1 -1]\n",
      "[ 1  1  1 -1 -1  1  1 -1  1  1]\n"
     ]
    }
   ],
   "source": [
    "seed = -1000     # Seed as specified during the recording\n",
    "xy = ()          # No spatial dimensions\n",
    "num_frames = 10  # Ten values per trial\n",
    "num_trials = 5   # Five trials = loop iterations\n",
    "\n",
    "for stim in stimulus.recreate(seed, xy, num_frames, num_trials):\n",
    "    print(stim)  # Each iteration prints one line"
   ]
  },
  {
   "cell_type": "markdown",
   "id": "92f06626-00b7-4bde-8654-fb98a4c42db5",
   "metadata": {},
   "source": [
    "## Spatiotemporal stimulus\n",
    "\n",
    "The following code recreates 5 trials of a spatiotemporal stimulus, each consisting of 10 frames of a spatial size of 80 by 50 (horizontal by vertical). Each iteration of the for-loop is one trial. Within the for-loop, `stim` is a $80 \\times 50 \\times 10$ numpy array representing one trial at each iteration."
   ]
  },
  {
   "cell_type": "code",
   "execution_count": 4,
   "id": "457816d4-7887-4d20-a33d-6c07d78cf6ad",
   "metadata": {},
   "outputs": [],
   "source": [
    "xy = (80, 50)\n",
    "\n",
    "for stim in stimulus.recreate(-1000, xy, 10, 5):\n",
    "    assert stim.shape == (80, 50, 10)"
   ]
  },
  {
   "cell_type": "markdown",
   "id": "8cbab59c-799b-4bf6-ae70-3b6fef59348d",
   "metadata": {},
   "source": [
    "## Save and load stimulus from disk\n",
    "\n",
    "If a stimulus is used several times in an analysis, it may be beneficial to save and load the stimulus from disk instead. The function signature remains the same, with an additional parameter for the file path including a base file name. The stimulus of each trial is saved in one file. The file name of each trial is constructed from the base file name, e.g. `/path/to/basename`, followed by four digits (trial index) and a file extension, i.e. `[basename]0000.h5`."
   ]
  },
  {
   "cell_type": "code",
   "execution_count": 5,
   "id": "bb461344-10c5-4518-8822-73bcf72099a8",
   "metadata": {},
   "outputs": [],
   "source": [
    "basename = 'examples/running'  # Evaluates to examples/running0000.h5"
   ]
  },
  {
   "cell_type": "code",
   "execution_count": 6,
   "id": "65068dd3-13b6-4b6e-ad23-4921b4757235",
   "metadata": {},
   "outputs": [
    {
     "name": "stderr",
     "output_type": "stream",
     "text": [
      "                                                                                                                       \r"
     ]
    }
   ],
   "source": [
    "stimulus.save(basename, seed, xy, num_frames, num_trials)"
   ]
  },
  {
   "cell_type": "markdown",
   "id": "7623959c-e609-4d13-b906-c65bf8647081",
   "metadata": {},
   "source": [
    "To load the stimulus from disk, pass the same base file name to the `load` function. This function works iteratively like the `recreate` function and can be used in the same way."
   ]
  },
  {
   "cell_type": "code",
   "execution_count": 7,
   "id": "d7cba2b7-9f33-4998-818e-f49717a0aa20",
   "metadata": {
    "scrolled": true
   },
   "outputs": [],
   "source": [
    "for stim in stimulus.load(basename):  # No trial number or file extension in the file name\n",
    "    pass"
   ]
  },
  {
   "cell_type": "markdown",
   "id": "246c7598-93aa-4167-8775-4d5407f5c2ac",
   "metadata": {},
   "source": [
    "## Load certain trials only\n",
    "\n",
    "The critical benefit of loading the stimulus as opposed to recreating it on the fly is that certain sections can be loaded specifically. This may save time and memory. There are three ways to specify which trials to consider.\n",
    "\n",
    "**Number of trials from start**"
   ]
  },
  {
   "cell_type": "code",
   "execution_count": 8,
   "id": "974e98b8-6c8d-4f69-a778-6417c22ffd7f",
   "metadata": {},
   "outputs": [],
   "source": [
    "trials = 4  # Load trials 0 through 4"
   ]
  },
  {
   "cell_type": "markdown",
   "id": "c2f66965-4162-415c-9639-02d8ea20616d",
   "metadata": {},
   "source": [
    "Using the line above will result in loading\n",
    ">examples/running0000.h5  \n",
    ">examples/running0001.h5  \n",
    ">examples/running0002.h5  \n",
    ">examples/running0003.h5"
   ]
  },
  {
   "cell_type": "markdown",
   "id": "4b779fa7-bb46-4078-9588-cf9e9f214351",
   "metadata": {},
   "source": [
    "**Range of trials**"
   ]
  },
  {
   "cell_type": "code",
   "execution_count": 9,
   "id": "f713794f-4698-4237-984e-a01f4b0ae156",
   "metadata": {},
   "outputs": [],
   "source": [
    "trials = range(2, 5)  # Load trials 2 through 5"
   ]
  },
  {
   "cell_type": "markdown",
   "id": "7e85d9b3-a5ec-47c5-a80f-279808165b9e",
   "metadata": {},
   "source": [
    "Using the line above will result in loading\n",
    ">examples/running0002.h5  \n",
    ">examples/running0003.h5  \n",
    ">examples/running0004.h5"
   ]
  },
  {
   "cell_type": "markdown",
   "id": "2de9c090-701b-48b1-ba36-11e87f907476",
   "metadata": {},
   "source": [
    "**Indices of trials**"
   ]
  },
  {
   "cell_type": "code",
   "execution_count": 10,
   "id": "6a722a19-3edc-4b8f-9bff-f6ef7123d3e0",
   "metadata": {},
   "outputs": [],
   "source": [
    "trials = [2, 5, 8]  # Load exactly trial 2, 5, and 8"
   ]
  },
  {
   "cell_type": "markdown",
   "id": "0d92d374-a20d-4402-a9cc-99c71d2f3011",
   "metadata": {},
   "source": [
    "Using the line above will result in loading\n",
    ">examples/running0002.h5  \n",
    ">examples/running0005.h5  \n",
    ">examples/running0008.h5"
   ]
  },
  {
   "cell_type": "markdown",
   "id": "744ce72c-09b8-4d9f-bf7d-0f6a0faf6486",
   "metadata": {},
   "source": [
    "This argument is passed in the following way:"
   ]
  },
  {
   "cell_type": "code",
   "execution_count": 11,
   "id": "0d1e921b-239e-4bee-ab21-2404c08813cd",
   "metadata": {},
   "outputs": [],
   "source": [
    "for stim in stimulus.load(basename, num=trials):\n",
    "    pass  # Only loading the specified trials"
   ]
  },
  {
   "cell_type": "markdown",
   "id": "35abf53b-610f-42b1-890b-0fd39f9f6c04",
   "metadata": {},
   "source": [
    "## Load certain spatial region only\n",
    "\n",
    "Likewise, it may save time and memory to only load a region in the spatial stimulus that is relevant, e.g. containing a receptive field in question. This is achieved by specifying the edges in the spatial dimensions in a tuple. For two spatial dimensions, slices for x and y are specified like so:"
   ]
  },
  {
   "cell_type": "code",
   "execution_count": 12,
   "id": "c1ee030d-ec7f-4281-b19b-90c811537067",
   "metadata": {
    "scrolled": true
   },
   "outputs": [],
   "source": [
    "window = (slice(23, 45), slice(12, 48))  # Rectangle of x (23 to 45) and y (12 to 48)\n",
    "\n",
    "for stim in stimulus.load(basename, crop=window):\n",
    "    assert stim.shape[:2] == (22, 36)  # Only loading a 22 x 36 spatial window"
   ]
  },
  {
   "cell_type": "markdown",
   "id": "7b85d430-c0f8-43b1-bb15-d11343002e0c",
   "metadata": {},
   "source": [
    "## Recreate or load one trial only\n",
    "\n",
    "The functions `recreate` and `load` each return a generator, a concept in Python that can be explained as a \"generating iterator\". The values provided at each iteration (e.g. of the for-loops in the examples above) are generated on the fly, whether that is recreating the stimulus or loading it from disk. To `recreate` or `load` only *one* trial or file, both functions will still return a generator although there is only one iteration. To access the stimulus without writing an unnecessary for-loop, one can iterate the generation by wrapping the call in `next`."
   ]
  },
  {
   "cell_type": "code",
   "execution_count": 13,
   "id": "c2c8d681-70b0-4411-8445-1e8332995606",
   "metadata": {},
   "outputs": [],
   "source": [
    "stim = next(stimulus.load(basename, num=1))  # Only load one trial"
   ]
  },
  {
   "cell_type": "markdown",
   "id": "c7f38adc-72dc-4b08-8c5f-abcf547d3c58",
   "metadata": {},
   "source": [
    "## Progress bar\n",
    "\n",
    "With many trials or large-scale processing, it may be useful to indicate the progress over trials. This can be achieved by passing `True` for the parameter `progress`. This turns on a tqdm progress bar with its default properties. This parameter is available in all three functions (`recreate`, `save`, and `load`)."
   ]
  },
  {
   "cell_type": "code",
   "execution_count": 14,
   "id": "d2892a2e-265b-488f-8168-99604ff92894",
   "metadata": {},
   "outputs": [
    {
     "name": "stderr",
     "output_type": "stream",
     "text": [
      "                                                                                                                       \r"
     ]
    }
   ],
   "source": [
    "for stim in stimulus.recreate(-1000, (200, 150), 20, 100, progress=True):\n",
    "    pass  # Larger stimulus dimensions to illustrate the progress bar"
   ]
  },
  {
   "cell_type": "markdown",
   "id": "1f18bc77-0066-4a43-97f2-b509cdafd767",
   "metadata": {},
   "source": [
    "When specifying a dictionary as argument instead, keyword arguments can be passed to tqdm to adjust the progress bar."
   ]
  },
  {
   "cell_type": "code",
   "execution_count": 15,
   "id": "a4323702-e6e7-43d4-a3b6-2f3bf0c0dc6d",
   "metadata": {},
   "outputs": [
    {
     "name": "stderr",
     "output_type": "stream",
     "text": [
      "Processing stimulus trials: 100%|█████████████████████████████████████████████████| 100/100 [00:03<00:00, 26.67trial/s]\n"
     ]
    }
   ],
   "source": [
    "# Example properties\n",
    "tqdm_args = dict(\n",
    "    desc='Processing stimulus trials',  # Change the title of the progress bar\n",
    "    leave=True,                         # Keep the progress bar after finishing\n",
    ")\n",
    "\n",
    "for stim in stimulus.recreate(-1000, (200, 150), 20, 100, tqdm_args):\n",
    "    pass"
   ]
  },
  {
   "cell_type": "markdown",
   "id": "b405c450-1c77-4112-89ef-b74ea404bb49",
   "metadata": {},
   "source": [
    "Saving a stimulus to disk enables the progress bar by default. To suppress the progress bar, specify `False`."
   ]
  },
  {
   "cell_type": "code",
   "execution_count": 16,
   "id": "f2be7eac-39e3-4f36-8f5d-3c777eeea3cd",
   "metadata": {},
   "outputs": [],
   "source": [
    "stimulus.save(basename, seed, xy, num_frames, num_trials, False)"
   ]
  },
  {
   "cell_type": "markdown",
   "id": "c1e4ffea-9705-4247-a91e-d060a4eabd37",
   "metadata": {},
   "source": [
    "## Several stimulus parts\n",
    "\n",
    "Sometimes a stimulus presentation is broken into several parts in an experiment (e.g. in chunks of one hour), sometimes initialized with a different seed (e.g. first hour `-1000`, second hour `-2000`)."
   ]
  },
  {
   "cell_type": "code",
   "execution_count": 17,
   "id": "7ddbaa89-87ca-4461-9289-148b91316d9f",
   "metadata": {},
   "outputs": [
    {
     "name": "stderr",
     "output_type": "stream",
     "text": [
      "                                                                                                                       \r"
     ]
    }
   ],
   "source": [
    "# Recreate the stimulus of the second hour with a different seed\n",
    "stimulus.save('examples/runningTwo', -2000, xy, num_frames, 3)"
   ]
  },
  {
   "cell_type": "markdown",
   "id": "6cfe2e69-fa47-424c-b05b-8881cea1b224",
   "metadata": {},
   "source": [
    "The created files in the `examples`-directory now contain five trials of `running` and three trials of `runningTwo`.\n",
    ">examples/running0000.h5  \n",
    ">examples/running0001.h5  \n",
    ">examples/running0002.h5  \n",
    ">examples/running0003.h5  \n",
    ">examples/running0004.h5  \n",
    ">examples/runningTwo0000.h5  \n",
    ">examples/runningTwo0001.h5  \n",
    ">examples/runningTwo0002.h5"
   ]
  },
  {
   "cell_type": "markdown",
   "id": "5356146b-e700-4d89-a336-513f6f86e185",
   "metadata": {},
   "source": [
    "On loading, these two (or more) chucks can be stitched-together to analyze them as one long stimulus sequence. They can be iterated over successively by [chaining generators](https://docs.python.org/3/library/itertools.html#itertools.chain)."
   ]
  },
  {
   "cell_type": "code",
   "execution_count": 18,
   "id": "4a8c2ba0-59de-4c12-8f64-a4443887fce9",
   "metadata": {},
   "outputs": [
    {
     "name": "stderr",
     "output_type": "stream",
     "text": [
      "Hour 1: 100%|█████████████████████████████████████████████████████████████████████████| 5/5 [00:01<00:00,  3.87trial/s]\n",
      "Hour 2: 100%|█████████████████████████████████████████████████████████████████████████| 3/3 [00:00<00:00,  3.87trial/s]\n"
     ]
    }
   ],
   "source": [
    "from itertools import chain  # Allow chaining iterators\n",
    "\n",
    "hour1 = 'examples/running'\n",
    "hour2 = 'examples/runningTwo'\n",
    "\n",
    "# Some progress bar information for illustration\n",
    "p1 = dict(desc='Hour 1', leave=True)\n",
    "p2 = dict(desc='Hour 2', leave=True)\n",
    "\n",
    "# Iterate over all trials of hour1 and then of all trials of hour2\n",
    "for stim in chain(stimulus.load(hour1, progress=p1), stimulus.load(hour2, progress=p2)):\n",
    "    from time import sleep; sleep(0.25)  # Slow down progress for illustration"
   ]
  },
  {
   "cell_type": "markdown",
   "id": "8fef8915-10a4-46f8-963e-32b94900cd5b",
   "metadata": {},
   "source": [
    "## Advanced properties\n",
    "\n",
    "#### File size\n",
    "Saving the stimulus is done in HDF4 format (h5 file extension). The compression is set to 3 (out of 9) by default to allow fast loading while preserving some disk space. The value can be adjusted if necessary. See below.\n",
    "\n",
    "#### Floating point precision\n",
    "To save space in memory, the floating point values in the Gaussian white noise module are generated with 32-bit precesion. In case a precision of 64-bit is necessary, it can be adjusted. See below."
   ]
  },
  {
   "cell_type": "code",
   "execution_count": 19,
   "id": "412b1c18-3063-491c-81fe-a25bdf6fb8bc",
   "metadata": {},
   "outputs": [],
   "source": [
    "import retinawhitenoise\n",
    "retinawhitenoise._core.COMPRESSION = 3  # H5 compression for writing stimulus to disk\n",
    "retinawhitenoise._core.PRECISION = 'float32'  # Or 'float64' for Gaussian white noise"
   ]
  },
  {
   "cell_type": "markdown",
   "id": "45f12720-dba3-438d-9027-2a6afd93e2ec",
   "metadata": {},
   "source": [
    "## Pseudo-random number generator\n",
    "\n",
    "The values generated are based on `ran1` and `gasdev` from Numerical Recipes. If needed, the (pseudo-) random number generator (RNG) can be accessed directly."
   ]
  },
  {
   "cell_type": "code",
   "execution_count": 20,
   "id": "8e81e5ee-d0c5-4528-9edf-b8ed9108ed07",
   "metadata": {},
   "outputs": [],
   "source": [
    "from retinawhitenoise import Rng"
   ]
  },
  {
   "cell_type": "markdown",
   "id": "772ad895-a5df-4ffe-8bfc-8ccfe6e2c616",
   "metadata": {},
   "source": [
    "The RNG is implemented in the class `Rng` that is initialized with a seed. The object-oriented design allows multiple instances with independent seeds."
   ]
  },
  {
   "cell_type": "code",
   "execution_count": 21,
   "id": "5579a12a-d7c5-4d9c-826b-5bf5c0229dcc",
   "metadata": {},
   "outputs": [],
   "source": [
    "r = Rng(-1000)"
   ]
  },
  {
   "cell_type": "markdown",
   "id": "8bbb6cea-211c-48a6-a944-4c76b02dcecc",
   "metadata": {},
   "source": [
    "The methods `ran1` and `gasdev` then generate respective values and advance the seed. The methods return the values in Python lists."
   ]
  },
  {
   "cell_type": "code",
   "execution_count": 22,
   "id": "912d10f3-72e1-457e-8246-8f19a8830e25",
   "metadata": {},
   "outputs": [
    {
     "data": {
      "text/plain": [
       "[0.19059444460579866,\n",
       " 0.4645137076566525,\n",
       " 0.928777586169903,\n",
       " 0.5020774898594607,\n",
       " 0.436494727822251]"
      ]
     },
     "execution_count": 22,
     "metadata": {},
     "output_type": "execute_result"
    }
   ],
   "source": [
    "r.ran1(5)"
   ]
  },
  {
   "cell_type": "code",
   "execution_count": 23,
   "id": "fe43777f-ce5c-4027-96de-db7b297aa8e7",
   "metadata": {},
   "outputs": [
    {
     "data": {
      "text/plain": [
       "[1.0777831931095547,\n",
       " 1.0312520475132794,\n",
       " -0.6891975327514535,\n",
       " 1.6333838175558486,\n",
       " -0.7822342155031711]"
      ]
     },
     "execution_count": 23,
     "metadata": {},
     "output_type": "execute_result"
    }
   ],
   "source": [
    "r.gasdev(5)"
   ]
  },
  {
   "cell_type": "markdown",
   "id": "147acec0-c251-4cea-b0a0-8a82d4a60fd4",
   "metadata": {},
   "source": [
    "Here, `ranb` is added to provide a binary version of `ran1`. It is used in the implementation of `binarystimulus`."
   ]
  },
  {
   "cell_type": "code",
   "execution_count": 24,
   "id": "171eadaf-c885-47b6-889f-702a9e80a769",
   "metadata": {},
   "outputs": [
    {
     "data": {
      "text/plain": [
       "[1, 0, 0, 0, 1]"
      ]
     },
     "execution_count": 24,
     "metadata": {},
     "output_type": "execute_result"
    }
   ],
   "source": [
    "r.ranb(5)"
   ]
  }
 ],
 "metadata": {
  "kernelspec": {
   "display_name": "Python 3 (ipykernel)",
   "language": "python",
   "name": "python3"
  },
  "language_info": {
   "codemirror_mode": {
    "name": "ipython",
    "version": 3
   },
   "file_extension": ".py",
   "mimetype": "text/x-python",
   "name": "python",
   "nbconvert_exporter": "python",
   "pygments_lexer": "ipython3",
   "version": "3.11.4"
  }
 },
 "nbformat": 4,
 "nbformat_minor": 5
}
